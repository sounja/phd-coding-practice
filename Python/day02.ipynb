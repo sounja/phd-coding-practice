{
 "cells": [
  {
   "cell_type": "markdown",
   "id": "69c45b2a-8ac1-4070-bc72-f58e98dfe970",
   "metadata": {},
   "source": [
    "# 30 Days of R/Python: Day 2"
   ]
  },
  {
   "cell_type": "code",
   "execution_count": 8,
   "id": "56aae730-9bc0-43b0-832c-73d117fb329f",
   "metadata": {},
   "outputs": [],
   "source": [
    "# Import necessary libraries\n",
    "import pandas as pd\n",
    "import numpy as np"
   ]
  },
  {
   "cell_type": "markdown",
   "id": "ab8135fd-3382-4b72-a690-bcc93795ae8b",
   "metadata": {},
   "source": [
    "## Creat a small Data frame with pandas."
   ]
  },
  {
   "cell_type": "code",
   "execution_count": 17,
   "id": "12b3f205-49b5-4542-bc98-658fb262d81e",
   "metadata": {},
   "outputs": [],
   "source": [
    "#Method 1: Since my data is 2D with rows being cats and columns being months, I needed to convert a 2d numpy array into a dataframe."
   ]
  },
  {
   "cell_type": "code",
   "execution_count": 24,
   "id": "5ae6210f-50e5-467f-88b4-3824526fbaa8",
   "metadata": {},
   "outputs": [
    {
     "name": "stdout",
     "output_type": "stream",
     "text": [
      "        Jan   Feb   Mar   Apr   May  June  July   Aug\n",
      "Tigs   11.7  11.6  11.7  11.8  11.8  11.8  11.8  11.6\n",
      "MerB    7.7   7.9   8.1   8.4   8.3   8.2   8.4   8.4\n",
      "Nappa  13.7  13.8  13.8  13.8  13.8  13.7  13.9  13.9\n",
      "Morty  13.2  13.6  14.1  14.5  14.5  14.3  14.5  14.9\n"
     ]
    }
   ],
   "source": [
    "weight = np.array([[11.7, 11.6, 11.7, 11.8, 11.8 ,11.8, 11.8, 11.6],\n",
    "                [7.7, 7.9, 8.1, 8.4, 8.3, 8.2, 8.4, 8.4],\n",
    "                [13.7, 13.8, 13.8, 13.8, 13.8, 13.7, 13.9, 13.9],\n",
    "                [13.2, 13.6, 14.1, 14.5, 14.5, 14.3, 14.5, 14.9]])\n",
    "monthly_cat_weight = pd.DataFrame(weight, \n",
    "                                  columns = [\"Jan\", \"Feb\", \"Mar\", \"Apr\", \"May\", \"June\", \"July\", \"Aug\"],\n",
    "                                    index = [\"Tigs\", \"MerB\", \"Nappa\", \"Morty\"])\n",
    "print(monthly_cat_weight)"
   ]
  },
  {
   "cell_type": "markdown",
   "id": "bf5251d5-12dd-44c7-99a0-5d6f4baab9a4",
   "metadata": {},
   "source": [
    "## Print the first five rows"
   ]
  },
  {
   "cell_type": "code",
   "execution_count": 25,
   "id": "dea8223a-8a3b-4ff1-a5be-95ef4aacddf1",
   "metadata": {},
   "outputs": [
    {
     "name": "stdout",
     "output_type": "stream",
     "text": [
      "        Jan   Feb   Mar   Apr   May  June  July   Aug\n",
      "Tigs   11.7  11.6  11.7  11.8  11.8  11.8  11.8  11.6\n",
      "MerB    7.7   7.9   8.1   8.4   8.3   8.2   8.4   8.4\n",
      "Nappa  13.7  13.8  13.8  13.8  13.8  13.7  13.9  13.9\n",
      "Morty  13.2  13.6  14.1  14.5  14.5  14.3  14.5  14.9\n"
     ]
    }
   ],
   "source": [
    "print(monthly_cat_weight.head())"
   ]
  },
  {
   "cell_type": "markdown",
   "id": "0925cb7b-85ab-4790-bea0-a263f3bbafd7",
   "metadata": {},
   "source": [
    "## Other ways to create dataframes using pandas"
   ]
  },
  {
   "cell_type": "code",
   "execution_count": 31,
   "id": "73c5a700-f636-4c80-8c86-1fec3fe3b5e9",
   "metadata": {},
   "outputs": [],
   "source": [
    "#Method 2: Dictionary of Lists where each key:value pair is a column in the data frame"
   ]
  },
  {
   "cell_type": "code",
   "execution_count": 32,
   "id": "bc550330-2ab2-4f0f-802a-28010ece26f0",
   "metadata": {},
   "outputs": [],
   "source": [
    "cat_info = {\n",
    "    \"Name\" : [\"TigerLilly\", \"MaryGold\", \"SnapDragon\", \"Morty\"],\n",
    "    \"Age\" : [15, 14, 11, 9],\n",
    "    \"Color\" : [\"Brown\", \"Calico\", \"Orange and White\", \"Black\"]\n",
    "}"
   ]
  },
  {
   "cell_type": "code",
   "execution_count": 33,
   "id": "e1fec858-1073-4b69-b2e0-d3899e3fa01b",
   "metadata": {},
   "outputs": [
    {
     "name": "stdout",
     "output_type": "stream",
     "text": [
      "         Name  Age             Color\n",
      "0  TigerLilly   15             Brown\n",
      "1    MaryGold   14            Calico\n",
      "2  SnapDragon   11  Orange and White\n",
      "3       Morty    9             Black\n"
     ]
    }
   ],
   "source": [
    "cat_info_df = pd.DataFrame(cat_info)\n",
    "print(cat_info_df)"
   ]
  },
  {
   "cell_type": "code",
   "execution_count": null,
   "id": "5e9bb104-48b8-49b9-94f8-714710449832",
   "metadata": {},
   "outputs": [],
   "source": [
    "#Method 3: List of Dictionaries, where each dictionary is a row of the dataframe"
   ]
  },
  {
   "cell_type": "code",
   "execution_count": 35,
   "id": "00cddf0c-84a6-46c1-a371-49264835df11",
   "metadata": {},
   "outputs": [],
   "source": [
    "cat_data = [\n",
    "    {\"Name\" : \"TigerLilly\", \"Sex\": \"F\", \"Nickname\" : \"Tigs\"},\n",
    "    {\"Name\" : \"MaryGold\", \"Sex\": \"F\", \"Nickname\" : \"MerB\"},\n",
    "    {\"Name\" : \"SnapDragon\", \"Sex\": \"M\", \"Nickname\" : \"Nappa\"},\n",
    "    {\"Name\" : \"Morty\", \"Sex\": \"M\", \"Nickname\" : \"Mort Mort\"}\n",
    "]"
   ]
  },
  {
   "cell_type": "code",
   "execution_count": 36,
   "id": "6c7b1c3a-e791-4417-b912-eb6f9acf2c9b",
   "metadata": {},
   "outputs": [
    {
     "name": "stdout",
     "output_type": "stream",
     "text": [
      "         Name Sex   Nickname\n",
      "0  TigerLilly   F       Tigs\n",
      "1    MaryGold   F       MerB\n",
      "2  SnapDragon   M      Nappa\n",
      "3       Morty   M  Mort Mort\n"
     ]
    }
   ],
   "source": [
    "cat_data_df = pd.DataFrame(cat_data)\n",
    "print(cat_data_df)"
   ]
  },
  {
   "cell_type": "code",
   "execution_count": null,
   "id": "e662b270-c6a6-4638-8bbc-1dc5b5e9010b",
   "metadata": {},
   "outputs": [],
   "source": []
  }
 ],
 "metadata": {
  "kernelspec": {
   "display_name": "Python 3 (ipykernel)",
   "language": "python",
   "name": "python3"
  },
  "language_info": {
   "codemirror_mode": {
    "name": "ipython",
    "version": 3
   },
   "file_extension": ".py",
   "mimetype": "text/x-python",
   "name": "python",
   "nbconvert_exporter": "python",
   "pygments_lexer": "ipython3",
   "version": "3.12.4"
  }
 },
 "nbformat": 4,
 "nbformat_minor": 5
}
