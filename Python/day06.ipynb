{
 "cells": [
  {
   "cell_type": "markdown",
   "id": "280ebc2b-da0c-4789-844c-bd5ae175b377",
   "metadata": {},
   "source": [
    "# 30 days of R/Python"
   ]
  },
  {
   "cell_type": "markdown",
   "id": "133220f0-6f7f-4bd4-9aef-957920eaec0d",
   "metadata": {},
   "source": [
    "## Day 6: Filtering using .iloc[] "
   ]
  },
  {
   "cell_type": "code",
   "execution_count": 1,
   "id": "7af2ab14-5bad-4236-9f97-50787b52ad8c",
   "metadata": {},
   "outputs": [],
   "source": [
    "# import necessary libraries\n",
    "import pandas as pd"
   ]
  },
  {
   "cell_type": "code",
   "execution_count": 3,
   "id": "ef004ba6-82bb-4882-8a53-70f201e9722c",
   "metadata": {},
   "outputs": [],
   "source": [
    "# Create my_cats dictionary\n",
    "my_cats = {\n",
    "    \"Names\" : [\"Puss\", \"TigerLilly\", \"MaryGold\", \"SnapDragon\", \"Morty\", \"Topaz\"],\n",
    "    \"Status\" : [\"Angel\", \"Living\", \"Living\", \"Living\", \"Living\", \"Angel\"],\n",
    "    \"Sex\" : [\"M\", \"F\", \"F\", \"M\", \"M\", \"F\"],\n",
    "    \"Age\" : [18, 15, 14, 11, 9, 16],\n",
    "    \"Nickname\" : [\"BoyBlue\", \"Tigs\", \"MerB\", \"Nappa\", \"MortMort\", \"Toaps\"]\n",
    "}\n"
   ]
  },
  {
   "cell_type": "code",
   "execution_count": 5,
   "id": "877a7a26-3e98-436f-bf75-b493ebb67e52",
   "metadata": {},
   "outputs": [
    {
     "name": "stdout",
     "output_type": "stream",
     "text": [
      "            Names  Status Sex  Age  Nickname\n",
      "Cat_1        Puss   Angel   M   18   BoyBlue\n",
      "Cat_2  TigerLilly  Living   F   15      Tigs\n",
      "Cat_3    MaryGold  Living   F   14      MerB\n",
      "Cat_4  SnapDragon  Living   M   11     Nappa\n",
      "Cat_5       Morty  Living   M    9  MortMort\n",
      "Cat_6       Topaz   Angel   F   16     Toaps\n"
     ]
    }
   ],
   "source": [
    "# Create a data frame from the my_cats dictionary\n",
    "my_cats_df = pd.DataFrame(my_cats, index = [\"Cat_1\",\"Cat_2\", \"Cat_3\", \"Cat_4\", \"Cat_5\", \"Cat_6\"])\n",
    "print(my_cats_df)"
   ]
  },
  {
   "cell_type": "code",
   "execution_count": 7,
   "id": "23b2f504-fe58-40f8-b517-5d39818a1b0c",
   "metadata": {},
   "outputs": [
    {
     "data": {
      "text/plain": [
       "Names          Puss\n",
       "Status        Angel\n",
       "Sex               M\n",
       "Age              18\n",
       "Nickname    BoyBlue\n",
       "Name: Cat_1, dtype: object"
      ]
     },
     "execution_count": 7,
     "metadata": {},
     "output_type": "execute_result"
    }
   ],
   "source": [
    "# Select the first row using .iloc[]\n",
    "my_cats_df.iloc[0]"
   ]
  },
  {
   "cell_type": "code",
   "execution_count": 17,
   "id": "8d8b22d8-f065-4975-837c-c36c7fe2bb64",
   "metadata": {},
   "outputs": [
    {
     "data": {
      "text/html": [
       "<div>\n",
       "<style scoped>\n",
       "    .dataframe tbody tr th:only-of-type {\n",
       "        vertical-align: middle;\n",
       "    }\n",
       "\n",
       "    .dataframe tbody tr th {\n",
       "        vertical-align: top;\n",
       "    }\n",
       "\n",
       "    .dataframe thead th {\n",
       "        text-align: right;\n",
       "    }\n",
       "</style>\n",
       "<table border=\"1\" class=\"dataframe\">\n",
       "  <thead>\n",
       "    <tr style=\"text-align: right;\">\n",
       "      <th></th>\n",
       "      <th>Names</th>\n",
       "      <th>Status</th>\n",
       "      <th>Sex</th>\n",
       "      <th>Age</th>\n",
       "      <th>Nickname</th>\n",
       "    </tr>\n",
       "  </thead>\n",
       "  <tbody>\n",
       "    <tr>\n",
       "      <th>Cat_2</th>\n",
       "      <td>TigerLilly</td>\n",
       "      <td>Living</td>\n",
       "      <td>F</td>\n",
       "      <td>15</td>\n",
       "      <td>Tigs</td>\n",
       "    </tr>\n",
       "    <tr>\n",
       "      <th>Cat_3</th>\n",
       "      <td>MaryGold</td>\n",
       "      <td>Living</td>\n",
       "      <td>F</td>\n",
       "      <td>14</td>\n",
       "      <td>MerB</td>\n",
       "    </tr>\n",
       "    <tr>\n",
       "      <th>Cat_6</th>\n",
       "      <td>Topaz</td>\n",
       "      <td>Angel</td>\n",
       "      <td>F</td>\n",
       "      <td>16</td>\n",
       "      <td>Toaps</td>\n",
       "    </tr>\n",
       "  </tbody>\n",
       "</table>\n",
       "</div>"
      ],
      "text/plain": [
       "            Names  Status Sex  Age Nickname\n",
       "Cat_2  TigerLilly  Living   F   15     Tigs\n",
       "Cat_3    MaryGold  Living   F   14     MerB\n",
       "Cat_6       Topaz   Angel   F   16    Toaps"
      ]
     },
     "execution_count": 17,
     "metadata": {},
     "output_type": "execute_result"
    }
   ],
   "source": [
    "# Select multiple rows using .iloc[]\n",
    "my_cats_df.iloc[[1,2,5]]"
   ]
  },
  {
   "cell_type": "code",
   "execution_count": 18,
   "id": "f1cda4d5-beb6-4fb3-a209-89c108899e05",
   "metadata": {},
   "outputs": [
    {
     "data": {
      "text/html": [
       "<div>\n",
       "<style scoped>\n",
       "    .dataframe tbody tr th:only-of-type {\n",
       "        vertical-align: middle;\n",
       "    }\n",
       "\n",
       "    .dataframe tbody tr th {\n",
       "        vertical-align: top;\n",
       "    }\n",
       "\n",
       "    .dataframe thead th {\n",
       "        text-align: right;\n",
       "    }\n",
       "</style>\n",
       "<table border=\"1\" class=\"dataframe\">\n",
       "  <thead>\n",
       "    <tr style=\"text-align: right;\">\n",
       "      <th></th>\n",
       "      <th>Names</th>\n",
       "      <th>Status</th>\n",
       "      <th>Sex</th>\n",
       "      <th>Age</th>\n",
       "      <th>Nickname</th>\n",
       "    </tr>\n",
       "  </thead>\n",
       "  <tbody>\n",
       "    <tr>\n",
       "      <th>Cat_2</th>\n",
       "      <td>TigerLilly</td>\n",
       "      <td>Living</td>\n",
       "      <td>F</td>\n",
       "      <td>15</td>\n",
       "      <td>Tigs</td>\n",
       "    </tr>\n",
       "    <tr>\n",
       "      <th>Cat_3</th>\n",
       "      <td>MaryGold</td>\n",
       "      <td>Living</td>\n",
       "      <td>F</td>\n",
       "      <td>14</td>\n",
       "      <td>MerB</td>\n",
       "    </tr>\n",
       "    <tr>\n",
       "      <th>Cat_4</th>\n",
       "      <td>SnapDragon</td>\n",
       "      <td>Living</td>\n",
       "      <td>M</td>\n",
       "      <td>11</td>\n",
       "      <td>Nappa</td>\n",
       "    </tr>\n",
       "  </tbody>\n",
       "</table>\n",
       "</div>"
      ],
      "text/plain": [
       "            Names  Status Sex  Age Nickname\n",
       "Cat_2  TigerLilly  Living   F   15     Tigs\n",
       "Cat_3    MaryGold  Living   F   14     MerB\n",
       "Cat_4  SnapDragon  Living   M   11    Nappa"
      ]
     },
     "execution_count": 18,
     "metadata": {},
     "output_type": "execute_result"
    }
   ],
   "source": [
    "# Select a slice of rows using .iloc[] Note: excludes range end value\n",
    "my_cats_df.iloc[1:4]"
   ]
  },
  {
   "cell_type": "code",
   "execution_count": 19,
   "id": "eaf21aa1-9d88-4244-b15a-48e1f1bf4c61",
   "metadata": {},
   "outputs": [
    {
     "data": {
      "text/plain": [
       "Cat_1    18\n",
       "Cat_2    15\n",
       "Cat_3    14\n",
       "Cat_4    11\n",
       "Cat_5     9\n",
       "Cat_6    16\n",
       "Name: Age, dtype: int64"
      ]
     },
     "execution_count": 19,
     "metadata": {},
     "output_type": "execute_result"
    }
   ],
   "source": [
    "# Select a single column using .iloc[]\n",
    "my_cats_df.iloc[ :,3]"
   ]
  },
  {
   "cell_type": "code",
   "execution_count": 20,
   "id": "95053d87-65b4-424c-bf38-5c2a9ad4b666",
   "metadata": {},
   "outputs": [
    {
     "data": {
      "text/html": [
       "<div>\n",
       "<style scoped>\n",
       "    .dataframe tbody tr th:only-of-type {\n",
       "        vertical-align: middle;\n",
       "    }\n",
       "\n",
       "    .dataframe tbody tr th {\n",
       "        vertical-align: top;\n",
       "    }\n",
       "\n",
       "    .dataframe thead th {\n",
       "        text-align: right;\n",
       "    }\n",
       "</style>\n",
       "<table border=\"1\" class=\"dataframe\">\n",
       "  <thead>\n",
       "    <tr style=\"text-align: right;\">\n",
       "      <th></th>\n",
       "      <th>Names</th>\n",
       "      <th>Nickname</th>\n",
       "    </tr>\n",
       "  </thead>\n",
       "  <tbody>\n",
       "    <tr>\n",
       "      <th>Cat_1</th>\n",
       "      <td>Puss</td>\n",
       "      <td>BoyBlue</td>\n",
       "    </tr>\n",
       "    <tr>\n",
       "      <th>Cat_2</th>\n",
       "      <td>TigerLilly</td>\n",
       "      <td>Tigs</td>\n",
       "    </tr>\n",
       "    <tr>\n",
       "      <th>Cat_3</th>\n",
       "      <td>MaryGold</td>\n",
       "      <td>MerB</td>\n",
       "    </tr>\n",
       "    <tr>\n",
       "      <th>Cat_4</th>\n",
       "      <td>SnapDragon</td>\n",
       "      <td>Nappa</td>\n",
       "    </tr>\n",
       "    <tr>\n",
       "      <th>Cat_5</th>\n",
       "      <td>Morty</td>\n",
       "      <td>MortMort</td>\n",
       "    </tr>\n",
       "    <tr>\n",
       "      <th>Cat_6</th>\n",
       "      <td>Topaz</td>\n",
       "      <td>Toaps</td>\n",
       "    </tr>\n",
       "  </tbody>\n",
       "</table>\n",
       "</div>"
      ],
      "text/plain": [
       "            Names  Nickname\n",
       "Cat_1        Puss   BoyBlue\n",
       "Cat_2  TigerLilly      Tigs\n",
       "Cat_3    MaryGold      MerB\n",
       "Cat_4  SnapDragon     Nappa\n",
       "Cat_5       Morty  MortMort\n",
       "Cat_6       Topaz     Toaps"
      ]
     },
     "execution_count": 20,
     "metadata": {},
     "output_type": "execute_result"
    }
   ],
   "source": [
    "# Select multiple columns using .iloc[]\n",
    "my_cats_df.iloc[:, [0,4]]"
   ]
  },
  {
   "cell_type": "code",
   "execution_count": 21,
   "id": "a5cb85f7-419f-402a-8c92-3a811870a9eb",
   "metadata": {},
   "outputs": [
    {
     "data": {
      "text/html": [
       "<div>\n",
       "<style scoped>\n",
       "    .dataframe tbody tr th:only-of-type {\n",
       "        vertical-align: middle;\n",
       "    }\n",
       "\n",
       "    .dataframe tbody tr th {\n",
       "        vertical-align: top;\n",
       "    }\n",
       "\n",
       "    .dataframe thead th {\n",
       "        text-align: right;\n",
       "    }\n",
       "</style>\n",
       "<table border=\"1\" class=\"dataframe\">\n",
       "  <thead>\n",
       "    <tr style=\"text-align: right;\">\n",
       "      <th></th>\n",
       "      <th>Names</th>\n",
       "      <th>Status</th>\n",
       "      <th>Sex</th>\n",
       "    </tr>\n",
       "  </thead>\n",
       "  <tbody>\n",
       "    <tr>\n",
       "      <th>Cat_1</th>\n",
       "      <td>Puss</td>\n",
       "      <td>Angel</td>\n",
       "      <td>M</td>\n",
       "    </tr>\n",
       "    <tr>\n",
       "      <th>Cat_2</th>\n",
       "      <td>TigerLilly</td>\n",
       "      <td>Living</td>\n",
       "      <td>F</td>\n",
       "    </tr>\n",
       "    <tr>\n",
       "      <th>Cat_3</th>\n",
       "      <td>MaryGold</td>\n",
       "      <td>Living</td>\n",
       "      <td>F</td>\n",
       "    </tr>\n",
       "    <tr>\n",
       "      <th>Cat_4</th>\n",
       "      <td>SnapDragon</td>\n",
       "      <td>Living</td>\n",
       "      <td>M</td>\n",
       "    </tr>\n",
       "    <tr>\n",
       "      <th>Cat_5</th>\n",
       "      <td>Morty</td>\n",
       "      <td>Living</td>\n",
       "      <td>M</td>\n",
       "    </tr>\n",
       "    <tr>\n",
       "      <th>Cat_6</th>\n",
       "      <td>Topaz</td>\n",
       "      <td>Angel</td>\n",
       "      <td>F</td>\n",
       "    </tr>\n",
       "  </tbody>\n",
       "</table>\n",
       "</div>"
      ],
      "text/plain": [
       "            Names  Status Sex\n",
       "Cat_1        Puss   Angel   M\n",
       "Cat_2  TigerLilly  Living   F\n",
       "Cat_3    MaryGold  Living   F\n",
       "Cat_4  SnapDragon  Living   M\n",
       "Cat_5       Morty  Living   M\n",
       "Cat_6       Topaz   Angel   F"
      ]
     },
     "execution_count": 21,
     "metadata": {},
     "output_type": "execute_result"
    }
   ],
   "source": [
    "# Select a slice of columns using .iloc[]\n",
    "my_cats_df.iloc[:, 0:3]"
   ]
  },
  {
   "cell_type": "code",
   "execution_count": 22,
   "id": "c86703e5-47e8-4a5d-b26d-0390652dcf61",
   "metadata": {},
   "outputs": [
    {
     "data": {
      "text/html": [
       "<div>\n",
       "<style scoped>\n",
       "    .dataframe tbody tr th:only-of-type {\n",
       "        vertical-align: middle;\n",
       "    }\n",
       "\n",
       "    .dataframe tbody tr th {\n",
       "        vertical-align: top;\n",
       "    }\n",
       "\n",
       "    .dataframe thead th {\n",
       "        text-align: right;\n",
       "    }\n",
       "</style>\n",
       "<table border=\"1\" class=\"dataframe\">\n",
       "  <thead>\n",
       "    <tr style=\"text-align: right;\">\n",
       "      <th></th>\n",
       "      <th>Names</th>\n",
       "      <th>Nickname</th>\n",
       "    </tr>\n",
       "  </thead>\n",
       "  <tbody>\n",
       "    <tr>\n",
       "      <th>Cat_1</th>\n",
       "      <td>Puss</td>\n",
       "      <td>BoyBlue</td>\n",
       "    </tr>\n",
       "    <tr>\n",
       "      <th>Cat_2</th>\n",
       "      <td>TigerLilly</td>\n",
       "      <td>Tigs</td>\n",
       "    </tr>\n",
       "    <tr>\n",
       "      <th>Cat_3</th>\n",
       "      <td>MaryGold</td>\n",
       "      <td>MerB</td>\n",
       "    </tr>\n",
       "    <tr>\n",
       "      <th>Cat_4</th>\n",
       "      <td>SnapDragon</td>\n",
       "      <td>Nappa</td>\n",
       "    </tr>\n",
       "  </tbody>\n",
       "</table>\n",
       "</div>"
      ],
      "text/plain": [
       "            Names Nickname\n",
       "Cat_1        Puss  BoyBlue\n",
       "Cat_2  TigerLilly     Tigs\n",
       "Cat_3    MaryGold     MerB\n",
       "Cat_4  SnapDragon    Nappa"
      ]
     },
     "execution_count": 22,
     "metadata": {},
     "output_type": "execute_result"
    }
   ],
   "source": [
    "# Combined row and column selection using .iloc[]\n",
    "my_cats_df.iloc[[0, 1, 2, 3] , [0, 4]]"
   ]
  },
  {
   "cell_type": "markdown",
   "id": "403e137f-d943-4d99-a15e-ef08b40326bb",
   "metadata": {},
   "source": [
    "# Summary"
   ]
  },
  {
   "cell_type": "markdown",
   "id": "ca771633-7cd0-4ab6-b4ff-c4ea363b6912",
   "metadata": {},
   "source": [
    "Use .iloc[] when you know the integer positions of the rows/columns.\n"
   ]
  },
  {
   "cell_type": "code",
   "execution_count": null,
   "id": "8d1cbad8-a419-48e4-a50e-dcbfb905e7b9",
   "metadata": {},
   "outputs": [],
   "source": []
  }
 ],
 "metadata": {
  "kernelspec": {
   "display_name": "Python 3 (ipykernel)",
   "language": "python",
   "name": "python3"
  },
  "language_info": {
   "codemirror_mode": {
    "name": "ipython",
    "version": 3
   },
   "file_extension": ".py",
   "mimetype": "text/x-python",
   "name": "python",
   "nbconvert_exporter": "python",
   "pygments_lexer": "ipython3",
   "version": "3.12.4"
  }
 },
 "nbformat": 4,
 "nbformat_minor": 5
}
