{
 "cells": [
  {
   "cell_type": "markdown",
   "id": "9827cee2-ba3a-46f6-8656-359a13b33549",
   "metadata": {},
   "source": [
    "# 30 Days of R/Python: Day 4"
   ]
  },
  {
   "cell_type": "markdown",
   "id": "97555081-c58c-48e0-95a4-000fb7abcb46",
   "metadata": {},
   "source": [
    "# Day 4: Filtering Using .loc[]"
   ]
  },
  {
   "cell_type": "code",
   "execution_count": 2,
   "id": "f04d53ef-edb5-400b-bcf6-f179531f10cb",
   "metadata": {},
   "outputs": [],
   "source": [
    "# Import necessary packages\n",
    "import pandas as pd"
   ]
  },
  {
   "cell_type": "code",
   "execution_count": 6,
   "id": "125ddef3-dd00-4cd8-8cad-6b38fb4127a8",
   "metadata": {},
   "outputs": [],
   "source": [
    "# Create a small practice data frame\n",
    "my_cats = {\n",
    "    \"Names\" : [\"Puss\", \"TigerLilly\", \"MaryGold\", \"SnapDragon\", \"Morty\", \"Topaz\"],\n",
    "    \"Status\" : [\"Angel\", \"Living\", \"Living\", \"Living\", \"Living\", \"Angel\"],\n",
    "    \"Sex\" : [\"M\", \"F\", \"F\", \"M\", \"M\", \"F\"],\n",
    "    \"Age\" : [18, 15, 14, 11, 9, 16],\n",
    "    \"Nickname\" : [\"BoyBlue\", \"Tigs\", \"MerB\", \"Nappa\", \"MortMort\", \"Toaps\"]\n",
    "}\n"
   ]
  },
  {
   "cell_type": "code",
   "execution_count": 16,
   "id": "15c4e196-0af9-472b-8590-4f6091e4ce42",
   "metadata": {},
   "outputs": [
    {
     "name": "stdout",
     "output_type": "stream",
     "text": [
      "            Names  Status Sex  Age  Nickname\n",
      "Cat_1        Puss   Angel   M   18   BoyBlue\n",
      "Cat_2  TigerLilly  Living   F   15      Tigs\n",
      "Cat_3    MaryGold  Living   F   14      MerB\n",
      "Cat_4  SnapDragon  Living   M   11     Nappa\n",
      "Cat_5       Morty  Living   M    9  MortMort\n",
      "Cat_6       Topaz   Angel   F   16     Toaps\n"
     ]
    }
   ],
   "source": [
    "# Create data frame from my_cats dictionary\n",
    "my_cats_df = pd.DataFrame(my_cats, index = [\"Cat_1\",\"Cat_2\", \"Cat_3\", \"Cat_4\", \"Cat_5\", \"Cat_6\"])\n",
    "print(my_cats_df)"
   ]
  },
  {
   "cell_type": "markdown",
   "id": "a72448a3-b6fc-4cb1-a71f-dea8256796ec",
   "metadata": {},
   "source": [
    "# Filtering Rows"
   ]
  },
  {
   "cell_type": "code",
   "execution_count": 17,
   "id": "29280b1a-fb44-4419-931b-05f080f08f0c",
   "metadata": {},
   "outputs": [
    {
     "data": {
      "text/plain": [
       "Names          Puss\n",
       "Status        Angel\n",
       "Sex               M\n",
       "Age              18\n",
       "Nickname    BoyBlue\n",
       "Name: Cat_1, dtype: object"
      ]
     },
     "execution_count": 17,
     "metadata": {},
     "output_type": "execute_result"
    }
   ],
   "source": [
    "# Select the first row using .loc[] (label-based indexing)\n",
    "my_cats_df.loc[\"Cat_1\"]"
   ]
  },
  {
   "cell_type": "code",
   "execution_count": 18,
   "id": "53cbecd9-d2c6-4aa7-b74b-d3855accfe57",
   "metadata": {},
   "outputs": [
    {
     "data": {
      "text/html": [
       "<div>\n",
       "<style scoped>\n",
       "    .dataframe tbody tr th:only-of-type {\n",
       "        vertical-align: middle;\n",
       "    }\n",
       "\n",
       "    .dataframe tbody tr th {\n",
       "        vertical-align: top;\n",
       "    }\n",
       "\n",
       "    .dataframe thead th {\n",
       "        text-align: right;\n",
       "    }\n",
       "</style>\n",
       "<table border=\"1\" class=\"dataframe\">\n",
       "  <thead>\n",
       "    <tr style=\"text-align: right;\">\n",
       "      <th></th>\n",
       "      <th>Names</th>\n",
       "      <th>Status</th>\n",
       "      <th>Sex</th>\n",
       "      <th>Age</th>\n",
       "      <th>Nickname</th>\n",
       "    </tr>\n",
       "  </thead>\n",
       "  <tbody>\n",
       "    <tr>\n",
       "      <th>Cat_1</th>\n",
       "      <td>Puss</td>\n",
       "      <td>Angel</td>\n",
       "      <td>M</td>\n",
       "      <td>18</td>\n",
       "      <td>BoyBlue</td>\n",
       "    </tr>\n",
       "    <tr>\n",
       "      <th>Cat_3</th>\n",
       "      <td>MaryGold</td>\n",
       "      <td>Living</td>\n",
       "      <td>F</td>\n",
       "      <td>14</td>\n",
       "      <td>MerB</td>\n",
       "    </tr>\n",
       "  </tbody>\n",
       "</table>\n",
       "</div>"
      ],
      "text/plain": [
       "          Names  Status Sex  Age Nickname\n",
       "Cat_1      Puss   Angel   M   18  BoyBlue\n",
       "Cat_3  MaryGold  Living   F   14     MerB"
      ]
     },
     "execution_count": 18,
     "metadata": {},
     "output_type": "execute_result"
    }
   ],
   "source": [
    "# Select multiple rows using .loc[]\n",
    "my_cats_df.loc[[\"Cat_1\", \"Cat_3\"]]"
   ]
  },
  {
   "cell_type": "code",
   "execution_count": 19,
   "id": "95851239-c44f-4731-8f51-86230ee03233",
   "metadata": {},
   "outputs": [
    {
     "data": {
      "text/html": [
       "<div>\n",
       "<style scoped>\n",
       "    .dataframe tbody tr th:only-of-type {\n",
       "        vertical-align: middle;\n",
       "    }\n",
       "\n",
       "    .dataframe tbody tr th {\n",
       "        vertical-align: top;\n",
       "    }\n",
       "\n",
       "    .dataframe thead th {\n",
       "        text-align: right;\n",
       "    }\n",
       "</style>\n",
       "<table border=\"1\" class=\"dataframe\">\n",
       "  <thead>\n",
       "    <tr style=\"text-align: right;\">\n",
       "      <th></th>\n",
       "      <th>Names</th>\n",
       "      <th>Status</th>\n",
       "      <th>Sex</th>\n",
       "      <th>Age</th>\n",
       "      <th>Nickname</th>\n",
       "    </tr>\n",
       "  </thead>\n",
       "  <tbody>\n",
       "    <tr>\n",
       "      <th>Cat_3</th>\n",
       "      <td>MaryGold</td>\n",
       "      <td>Living</td>\n",
       "      <td>F</td>\n",
       "      <td>14</td>\n",
       "      <td>MerB</td>\n",
       "    </tr>\n",
       "    <tr>\n",
       "      <th>Cat_4</th>\n",
       "      <td>SnapDragon</td>\n",
       "      <td>Living</td>\n",
       "      <td>M</td>\n",
       "      <td>11</td>\n",
       "      <td>Nappa</td>\n",
       "    </tr>\n",
       "    <tr>\n",
       "      <th>Cat_5</th>\n",
       "      <td>Morty</td>\n",
       "      <td>Living</td>\n",
       "      <td>M</td>\n",
       "      <td>9</td>\n",
       "      <td>MortMort</td>\n",
       "    </tr>\n",
       "  </tbody>\n",
       "</table>\n",
       "</div>"
      ],
      "text/plain": [
       "            Names  Status Sex  Age  Nickname\n",
       "Cat_3    MaryGold  Living   F   14      MerB\n",
       "Cat_4  SnapDragon  Living   M   11     Nappa\n",
       "Cat_5       Morty  Living   M    9  MortMort"
      ]
     },
     "execution_count": 19,
     "metadata": {},
     "output_type": "execute_result"
    }
   ],
   "source": [
    "# Select a slice of rows using .loc[]\n",
    "my_cats_df.loc[\"Cat_3\":\"Cat_5\"]"
   ]
  },
  {
   "cell_type": "code",
   "execution_count": 14,
   "id": "aafda732-40d4-46f0-9402-65f9a117efe7",
   "metadata": {},
   "outputs": [
    {
     "data": {
      "text/html": [
       "<div>\n",
       "<style scoped>\n",
       "    .dataframe tbody tr th:only-of-type {\n",
       "        vertical-align: middle;\n",
       "    }\n",
       "\n",
       "    .dataframe tbody tr th {\n",
       "        vertical-align: top;\n",
       "    }\n",
       "\n",
       "    .dataframe thead th {\n",
       "        text-align: right;\n",
       "    }\n",
       "</style>\n",
       "<table border=\"1\" class=\"dataframe\">\n",
       "  <thead>\n",
       "    <tr style=\"text-align: right;\">\n",
       "      <th></th>\n",
       "      <th>Names</th>\n",
       "      <th>Status</th>\n",
       "      <th>Sex</th>\n",
       "      <th>Age</th>\n",
       "      <th>Nickname</th>\n",
       "    </tr>\n",
       "  </thead>\n",
       "  <tbody>\n",
       "    <tr>\n",
       "      <th>0</th>\n",
       "      <td>Puss</td>\n",
       "      <td>Angel</td>\n",
       "      <td>M</td>\n",
       "      <td>18</td>\n",
       "      <td>BoyBlue</td>\n",
       "    </tr>\n",
       "    <tr>\n",
       "      <th>5</th>\n",
       "      <td>Topaz</td>\n",
       "      <td>Angel</td>\n",
       "      <td>F</td>\n",
       "      <td>16</td>\n",
       "      <td>Toaps</td>\n",
       "    </tr>\n",
       "  </tbody>\n",
       "</table>\n",
       "</div>"
      ],
      "text/plain": [
       "   Names Status Sex  Age Nickname\n",
       "0   Puss  Angel   M   18  BoyBlue\n",
       "5  Topaz  Angel   F   16    Toaps"
      ]
     },
     "execution_count": 14,
     "metadata": {},
     "output_type": "execute_result"
    }
   ],
   "source": [
    "# Select rows based on a condition using .loc[]\n",
    "my_cats_df.loc[my_cats_df[\"Age\"] > 15]"
   ]
  },
  {
   "cell_type": "markdown",
   "id": "6ae06216-e3a6-4370-bdf8-4f178e32ed0a",
   "metadata": {},
   "source": [
    "# Filtering Columns "
   ]
  },
  {
   "cell_type": "code",
   "execution_count": 23,
   "id": "6aef4e35-338a-4242-b4bb-e850be27a932",
   "metadata": {},
   "outputs": [
    {
     "data": {
      "text/plain": [
       "Cat_1          Puss\n",
       "Cat_2    TigerLilly\n",
       "Cat_3      MaryGold\n",
       "Cat_4    SnapDragon\n",
       "Cat_5         Morty\n",
       "Cat_6         Topaz\n",
       "Name: Names, dtype: object"
      ]
     },
     "execution_count": 23,
     "metadata": {},
     "output_type": "execute_result"
    }
   ],
   "source": [
    "# Select the first column using .loc[]\n",
    "my_cats_df.loc[ :, \"Names\"]"
   ]
  },
  {
   "cell_type": "code",
   "execution_count": 26,
   "id": "03e11ebc-4846-455f-81ae-5347eb742f28",
   "metadata": {},
   "outputs": [
    {
     "data": {
      "text/html": [
       "<div>\n",
       "<style scoped>\n",
       "    .dataframe tbody tr th:only-of-type {\n",
       "        vertical-align: middle;\n",
       "    }\n",
       "\n",
       "    .dataframe tbody tr th {\n",
       "        vertical-align: top;\n",
       "    }\n",
       "\n",
       "    .dataframe thead th {\n",
       "        text-align: right;\n",
       "    }\n",
       "</style>\n",
       "<table border=\"1\" class=\"dataframe\">\n",
       "  <thead>\n",
       "    <tr style=\"text-align: right;\">\n",
       "      <th></th>\n",
       "      <th>Names</th>\n",
       "      <th>Age</th>\n",
       "      <th>Nickname</th>\n",
       "    </tr>\n",
       "  </thead>\n",
       "  <tbody>\n",
       "    <tr>\n",
       "      <th>Cat_1</th>\n",
       "      <td>Puss</td>\n",
       "      <td>18</td>\n",
       "      <td>BoyBlue</td>\n",
       "    </tr>\n",
       "    <tr>\n",
       "      <th>Cat_2</th>\n",
       "      <td>TigerLilly</td>\n",
       "      <td>15</td>\n",
       "      <td>Tigs</td>\n",
       "    </tr>\n",
       "    <tr>\n",
       "      <th>Cat_3</th>\n",
       "      <td>MaryGold</td>\n",
       "      <td>14</td>\n",
       "      <td>MerB</td>\n",
       "    </tr>\n",
       "    <tr>\n",
       "      <th>Cat_4</th>\n",
       "      <td>SnapDragon</td>\n",
       "      <td>11</td>\n",
       "      <td>Nappa</td>\n",
       "    </tr>\n",
       "    <tr>\n",
       "      <th>Cat_5</th>\n",
       "      <td>Morty</td>\n",
       "      <td>9</td>\n",
       "      <td>MortMort</td>\n",
       "    </tr>\n",
       "    <tr>\n",
       "      <th>Cat_6</th>\n",
       "      <td>Topaz</td>\n",
       "      <td>16</td>\n",
       "      <td>Toaps</td>\n",
       "    </tr>\n",
       "  </tbody>\n",
       "</table>\n",
       "</div>"
      ],
      "text/plain": [
       "            Names  Age  Nickname\n",
       "Cat_1        Puss   18   BoyBlue\n",
       "Cat_2  TigerLilly   15      Tigs\n",
       "Cat_3    MaryGold   14      MerB\n",
       "Cat_4  SnapDragon   11     Nappa\n",
       "Cat_5       Morty    9  MortMort\n",
       "Cat_6       Topaz   16     Toaps"
      ]
     },
     "execution_count": 26,
     "metadata": {},
     "output_type": "execute_result"
    }
   ],
   "source": [
    "# Select multiple columns using .loc[]\n",
    "my_cats_df.loc[ :, [\"Names\", \"Age\", \"Nickname\"]] "
   ]
  },
  {
   "cell_type": "code",
   "execution_count": 27,
   "id": "0fcd6ae9-fb97-44d0-a53b-e6364b9f7ff5",
   "metadata": {},
   "outputs": [
    {
     "data": {
      "text/html": [
       "<div>\n",
       "<style scoped>\n",
       "    .dataframe tbody tr th:only-of-type {\n",
       "        vertical-align: middle;\n",
       "    }\n",
       "\n",
       "    .dataframe tbody tr th {\n",
       "        vertical-align: top;\n",
       "    }\n",
       "\n",
       "    .dataframe thead th {\n",
       "        text-align: right;\n",
       "    }\n",
       "</style>\n",
       "<table border=\"1\" class=\"dataframe\">\n",
       "  <thead>\n",
       "    <tr style=\"text-align: right;\">\n",
       "      <th></th>\n",
       "      <th>Status</th>\n",
       "      <th>Sex</th>\n",
       "      <th>Age</th>\n",
       "    </tr>\n",
       "  </thead>\n",
       "  <tbody>\n",
       "    <tr>\n",
       "      <th>Cat_1</th>\n",
       "      <td>Angel</td>\n",
       "      <td>M</td>\n",
       "      <td>18</td>\n",
       "    </tr>\n",
       "    <tr>\n",
       "      <th>Cat_2</th>\n",
       "      <td>Living</td>\n",
       "      <td>F</td>\n",
       "      <td>15</td>\n",
       "    </tr>\n",
       "    <tr>\n",
       "      <th>Cat_3</th>\n",
       "      <td>Living</td>\n",
       "      <td>F</td>\n",
       "      <td>14</td>\n",
       "    </tr>\n",
       "    <tr>\n",
       "      <th>Cat_4</th>\n",
       "      <td>Living</td>\n",
       "      <td>M</td>\n",
       "      <td>11</td>\n",
       "    </tr>\n",
       "    <tr>\n",
       "      <th>Cat_5</th>\n",
       "      <td>Living</td>\n",
       "      <td>M</td>\n",
       "      <td>9</td>\n",
       "    </tr>\n",
       "    <tr>\n",
       "      <th>Cat_6</th>\n",
       "      <td>Angel</td>\n",
       "      <td>F</td>\n",
       "      <td>16</td>\n",
       "    </tr>\n",
       "  </tbody>\n",
       "</table>\n",
       "</div>"
      ],
      "text/plain": [
       "       Status Sex  Age\n",
       "Cat_1   Angel   M   18\n",
       "Cat_2  Living   F   15\n",
       "Cat_3  Living   F   14\n",
       "Cat_4  Living   M   11\n",
       "Cat_5  Living   M    9\n",
       "Cat_6   Angel   F   16"
      ]
     },
     "execution_count": 27,
     "metadata": {},
     "output_type": "execute_result"
    }
   ],
   "source": [
    "# Select a slice of colunms using .loc[]\n",
    "my_cats_df.loc[ :, \"Status\" : \"Age\"]"
   ]
  },
  {
   "cell_type": "markdown",
   "id": "f442b6bd-01d8-4e5c-bf20-bd6707c741f5",
   "metadata": {},
   "source": [
    "# Filtering Rows and Columns"
   ]
  },
  {
   "cell_type": "code",
   "execution_count": 30,
   "id": "34174dfa-95af-472a-a429-5e82e7580483",
   "metadata": {},
   "outputs": [],
   "source": [
    "# Combine row and column selection using .loc[]"
   ]
  },
  {
   "cell_type": "code",
   "execution_count": 31,
   "id": "180ff380-a216-4080-95a1-5fcd38728da0",
   "metadata": {},
   "outputs": [
    {
     "data": {
      "text/html": [
       "<div>\n",
       "<style scoped>\n",
       "    .dataframe tbody tr th:only-of-type {\n",
       "        vertical-align: middle;\n",
       "    }\n",
       "\n",
       "    .dataframe tbody tr th {\n",
       "        vertical-align: top;\n",
       "    }\n",
       "\n",
       "    .dataframe thead th {\n",
       "        text-align: right;\n",
       "    }\n",
       "</style>\n",
       "<table border=\"1\" class=\"dataframe\">\n",
       "  <thead>\n",
       "    <tr style=\"text-align: right;\">\n",
       "      <th></th>\n",
       "      <th>Names</th>\n",
       "      <th>Age</th>\n",
       "      <th>Nickname</th>\n",
       "    </tr>\n",
       "  </thead>\n",
       "  <tbody>\n",
       "    <tr>\n",
       "      <th>Cat_2</th>\n",
       "      <td>TigerLilly</td>\n",
       "      <td>15</td>\n",
       "      <td>Tigs</td>\n",
       "    </tr>\n",
       "    <tr>\n",
       "      <th>Cat_3</th>\n",
       "      <td>MaryGold</td>\n",
       "      <td>14</td>\n",
       "      <td>MerB</td>\n",
       "    </tr>\n",
       "    <tr>\n",
       "      <th>Cat_4</th>\n",
       "      <td>SnapDragon</td>\n",
       "      <td>11</td>\n",
       "      <td>Nappa</td>\n",
       "    </tr>\n",
       "  </tbody>\n",
       "</table>\n",
       "</div>"
      ],
      "text/plain": [
       "            Names  Age Nickname\n",
       "Cat_2  TigerLilly   15     Tigs\n",
       "Cat_3    MaryGold   14     MerB\n",
       "Cat_4  SnapDragon   11    Nappa"
      ]
     },
     "execution_count": 31,
     "metadata": {},
     "output_type": "execute_result"
    }
   ],
   "source": [
    "my_cats_df.loc[\"Cat_2\" : \"Cat_4\" , [\"Names\", \"Age\",\"Nickname\"]]"
   ]
  },
  {
   "cell_type": "markdown",
   "id": "cbfbe63e-4e74-414c-b3c9-c431aa1d7a70",
   "metadata": {},
   "source": [
    "# Summary"
   ]
  },
  {
   "cell_type": "markdown",
   "id": "2d52c334-4636-4659-8080-0c90a9eeb81a",
   "metadata": {},
   "source": [
    ".loc selects data using row and column names (labels)"
   ]
  }
 ],
 "metadata": {
  "kernelspec": {
   "display_name": "Python 3 (ipykernel)",
   "language": "python",
   "name": "python3"
  },
  "language_info": {
   "codemirror_mode": {
    "name": "ipython",
    "version": 3
   },
   "file_extension": ".py",
   "mimetype": "text/x-python",
   "name": "python",
   "nbconvert_exporter": "python",
   "pygments_lexer": "ipython3",
   "version": "3.12.4"
  }
 },
 "nbformat": 4,
 "nbformat_minor": 5
}
